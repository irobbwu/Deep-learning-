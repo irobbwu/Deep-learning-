{
 "cells": [
  {
   "cell_type": "markdown",
   "id": "going-custody",
   "metadata": {},
   "source": [
    "# Regression_Adam\n",
    "\n",
    "## SGDM\n",
    "SGDM即为SGD with momentum，它加入了动量机制，1986年提出。\n",
    "\n",
    "![title](attachment/1-5.png)\n",
    "\n",
    "避免落入局部最小值。\n",
    "\n",
    "![title](attachment/1-8.png)\n",
    "\n",
    "缺点：没有学习率控制\n",
    "\n"
   ]
  },
  {
   "cell_type": "code",
   "execution_count": 1,
   "id": "brave-petersburg",
   "metadata": {},
   "outputs": [
    {
     "data": {
      "text/html": [
       "<div>\n",
       "<style scoped>\n",
       "    .dataframe tbody tr th:only-of-type {\n",
       "        vertical-align: middle;\n",
       "    }\n",
       "\n",
       "    .dataframe tbody tr th {\n",
       "        vertical-align: top;\n",
       "    }\n",
       "\n",
       "    .dataframe thead th {\n",
       "        text-align: right;\n",
       "    }\n",
       "</style>\n",
       "<table border=\"1\" class=\"dataframe\">\n",
       "  <thead>\n",
       "    <tr style=\"text-align: right;\">\n",
       "      <th></th>\n",
       "      <th>日期</th>\n",
       "      <th>測站</th>\n",
       "      <th>測項</th>\n",
       "      <th>0</th>\n",
       "      <th>1</th>\n",
       "      <th>2</th>\n",
       "      <th>3</th>\n",
       "      <th>4</th>\n",
       "      <th>5</th>\n",
       "      <th>6</th>\n",
       "      <th>...</th>\n",
       "      <th>14</th>\n",
       "      <th>15</th>\n",
       "      <th>16</th>\n",
       "      <th>17</th>\n",
       "      <th>18</th>\n",
       "      <th>19</th>\n",
       "      <th>20</th>\n",
       "      <th>21</th>\n",
       "      <th>22</th>\n",
       "      <th>23</th>\n",
       "    </tr>\n",
       "  </thead>\n",
       "  <tbody>\n",
       "    <tr>\n",
       "      <th>0</th>\n",
       "      <td>2014/1/1</td>\n",
       "      <td>豐原</td>\n",
       "      <td>AMB_TEMP</td>\n",
       "      <td>14</td>\n",
       "      <td>14</td>\n",
       "      <td>14</td>\n",
       "      <td>13</td>\n",
       "      <td>12</td>\n",
       "      <td>12</td>\n",
       "      <td>12</td>\n",
       "      <td>...</td>\n",
       "      <td>22</td>\n",
       "      <td>22</td>\n",
       "      <td>21</td>\n",
       "      <td>19</td>\n",
       "      <td>17</td>\n",
       "      <td>16</td>\n",
       "      <td>15</td>\n",
       "      <td>15</td>\n",
       "      <td>15</td>\n",
       "      <td>15</td>\n",
       "    </tr>\n",
       "    <tr>\n",
       "      <th>1</th>\n",
       "      <td>2014/1/1</td>\n",
       "      <td>豐原</td>\n",
       "      <td>CH4</td>\n",
       "      <td>1.8</td>\n",
       "      <td>1.8</td>\n",
       "      <td>1.8</td>\n",
       "      <td>1.8</td>\n",
       "      <td>1.8</td>\n",
       "      <td>1.8</td>\n",
       "      <td>1.8</td>\n",
       "      <td>...</td>\n",
       "      <td>1.8</td>\n",
       "      <td>1.8</td>\n",
       "      <td>1.8</td>\n",
       "      <td>1.8</td>\n",
       "      <td>1.8</td>\n",
       "      <td>1.8</td>\n",
       "      <td>1.8</td>\n",
       "      <td>1.8</td>\n",
       "      <td>1.8</td>\n",
       "      <td>1.8</td>\n",
       "    </tr>\n",
       "    <tr>\n",
       "      <th>2</th>\n",
       "      <td>2014/1/1</td>\n",
       "      <td>豐原</td>\n",
       "      <td>CO</td>\n",
       "      <td>0.51</td>\n",
       "      <td>0.41</td>\n",
       "      <td>0.39</td>\n",
       "      <td>0.37</td>\n",
       "      <td>0.35</td>\n",
       "      <td>0.3</td>\n",
       "      <td>0.37</td>\n",
       "      <td>...</td>\n",
       "      <td>0.37</td>\n",
       "      <td>0.37</td>\n",
       "      <td>0.47</td>\n",
       "      <td>0.69</td>\n",
       "      <td>0.56</td>\n",
       "      <td>0.45</td>\n",
       "      <td>0.38</td>\n",
       "      <td>0.35</td>\n",
       "      <td>0.36</td>\n",
       "      <td>0.32</td>\n",
       "    </tr>\n",
       "    <tr>\n",
       "      <th>3</th>\n",
       "      <td>2014/1/1</td>\n",
       "      <td>豐原</td>\n",
       "      <td>NMHC</td>\n",
       "      <td>0.2</td>\n",
       "      <td>0.15</td>\n",
       "      <td>0.13</td>\n",
       "      <td>0.12</td>\n",
       "      <td>0.11</td>\n",
       "      <td>0.06</td>\n",
       "      <td>0.1</td>\n",
       "      <td>...</td>\n",
       "      <td>0.1</td>\n",
       "      <td>0.13</td>\n",
       "      <td>0.14</td>\n",
       "      <td>0.23</td>\n",
       "      <td>0.18</td>\n",
       "      <td>0.12</td>\n",
       "      <td>0.1</td>\n",
       "      <td>0.09</td>\n",
       "      <td>0.1</td>\n",
       "      <td>0.08</td>\n",
       "    </tr>\n",
       "    <tr>\n",
       "      <th>4</th>\n",
       "      <td>2014/1/1</td>\n",
       "      <td>豐原</td>\n",
       "      <td>NO</td>\n",
       "      <td>0.9</td>\n",
       "      <td>0.6</td>\n",
       "      <td>0.5</td>\n",
       "      <td>1.7</td>\n",
       "      <td>1.8</td>\n",
       "      <td>1.5</td>\n",
       "      <td>1.9</td>\n",
       "      <td>...</td>\n",
       "      <td>2.5</td>\n",
       "      <td>2.2</td>\n",
       "      <td>2.5</td>\n",
       "      <td>2.3</td>\n",
       "      <td>2.1</td>\n",
       "      <td>1.9</td>\n",
       "      <td>1.5</td>\n",
       "      <td>1.6</td>\n",
       "      <td>1.8</td>\n",
       "      <td>1.5</td>\n",
       "    </tr>\n",
       "    <tr>\n",
       "      <th>5</th>\n",
       "      <td>2014/1/1</td>\n",
       "      <td>豐原</td>\n",
       "      <td>NO2</td>\n",
       "      <td>16</td>\n",
       "      <td>9.2</td>\n",
       "      <td>8.2</td>\n",
       "      <td>6.9</td>\n",
       "      <td>6.8</td>\n",
       "      <td>3.8</td>\n",
       "      <td>6.9</td>\n",
       "      <td>...</td>\n",
       "      <td>11</td>\n",
       "      <td>11</td>\n",
       "      <td>22</td>\n",
       "      <td>28</td>\n",
       "      <td>19</td>\n",
       "      <td>12</td>\n",
       "      <td>8.1</td>\n",
       "      <td>7</td>\n",
       "      <td>6.9</td>\n",
       "      <td>6</td>\n",
       "    </tr>\n",
       "    <tr>\n",
       "      <th>6</th>\n",
       "      <td>2014/1/1</td>\n",
       "      <td>豐原</td>\n",
       "      <td>NOx</td>\n",
       "      <td>17</td>\n",
       "      <td>9.8</td>\n",
       "      <td>8.7</td>\n",
       "      <td>8.6</td>\n",
       "      <td>8.5</td>\n",
       "      <td>5.3</td>\n",
       "      <td>8.8</td>\n",
       "      <td>...</td>\n",
       "      <td>14</td>\n",
       "      <td>13</td>\n",
       "      <td>25</td>\n",
       "      <td>30</td>\n",
       "      <td>21</td>\n",
       "      <td>13</td>\n",
       "      <td>9.7</td>\n",
       "      <td>8.6</td>\n",
       "      <td>8.7</td>\n",
       "      <td>7.5</td>\n",
       "    </tr>\n",
       "    <tr>\n",
       "      <th>7</th>\n",
       "      <td>2014/1/1</td>\n",
       "      <td>豐原</td>\n",
       "      <td>O3</td>\n",
       "      <td>16</td>\n",
       "      <td>30</td>\n",
       "      <td>27</td>\n",
       "      <td>23</td>\n",
       "      <td>24</td>\n",
       "      <td>28</td>\n",
       "      <td>24</td>\n",
       "      <td>...</td>\n",
       "      <td>65</td>\n",
       "      <td>64</td>\n",
       "      <td>51</td>\n",
       "      <td>34</td>\n",
       "      <td>33</td>\n",
       "      <td>34</td>\n",
       "      <td>37</td>\n",
       "      <td>38</td>\n",
       "      <td>38</td>\n",
       "      <td>36</td>\n",
       "    </tr>\n",
       "    <tr>\n",
       "      <th>8</th>\n",
       "      <td>2014/1/1</td>\n",
       "      <td>豐原</td>\n",
       "      <td>PM10</td>\n",
       "      <td>56</td>\n",
       "      <td>50</td>\n",
       "      <td>48</td>\n",
       "      <td>35</td>\n",
       "      <td>25</td>\n",
       "      <td>12</td>\n",
       "      <td>4</td>\n",
       "      <td>...</td>\n",
       "      <td>52</td>\n",
       "      <td>51</td>\n",
       "      <td>66</td>\n",
       "      <td>85</td>\n",
       "      <td>85</td>\n",
       "      <td>63</td>\n",
       "      <td>46</td>\n",
       "      <td>36</td>\n",
       "      <td>42</td>\n",
       "      <td>42</td>\n",
       "    </tr>\n",
       "    <tr>\n",
       "      <th>9</th>\n",
       "      <td>2014/1/1</td>\n",
       "      <td>豐原</td>\n",
       "      <td>PM2.5</td>\n",
       "      <td>26</td>\n",
       "      <td>39</td>\n",
       "      <td>36</td>\n",
       "      <td>35</td>\n",
       "      <td>31</td>\n",
       "      <td>28</td>\n",
       "      <td>25</td>\n",
       "      <td>...</td>\n",
       "      <td>36</td>\n",
       "      <td>45</td>\n",
       "      <td>42</td>\n",
       "      <td>49</td>\n",
       "      <td>45</td>\n",
       "      <td>44</td>\n",
       "      <td>41</td>\n",
       "      <td>30</td>\n",
       "      <td>24</td>\n",
       "      <td>13</td>\n",
       "    </tr>\n",
       "  </tbody>\n",
       "</table>\n",
       "<p>10 rows × 27 columns</p>\n",
       "</div>"
      ],
      "text/plain": [
       "         日期  測站        測項     0     1     2     3     4     5     6  ...   \\\n",
       "0  2014/1/1  豐原  AMB_TEMP    14    14    14    13    12    12    12  ...    \n",
       "1  2014/1/1  豐原       CH4   1.8   1.8   1.8   1.8   1.8   1.8   1.8  ...    \n",
       "2  2014/1/1  豐原        CO  0.51  0.41  0.39  0.37  0.35   0.3  0.37  ...    \n",
       "3  2014/1/1  豐原      NMHC   0.2  0.15  0.13  0.12  0.11  0.06   0.1  ...    \n",
       "4  2014/1/1  豐原        NO   0.9   0.6   0.5   1.7   1.8   1.5   1.9  ...    \n",
       "5  2014/1/1  豐原       NO2    16   9.2   8.2   6.9   6.8   3.8   6.9  ...    \n",
       "6  2014/1/1  豐原       NOx    17   9.8   8.7   8.6   8.5   5.3   8.8  ...    \n",
       "7  2014/1/1  豐原        O3    16    30    27    23    24    28    24  ...    \n",
       "8  2014/1/1  豐原      PM10    56    50    48    35    25    12     4  ...    \n",
       "9  2014/1/1  豐原     PM2.5    26    39    36    35    31    28    25  ...    \n",
       "\n",
       "     14    15    16    17    18    19    20    21    22    23  \n",
       "0    22    22    21    19    17    16    15    15    15    15  \n",
       "1   1.8   1.8   1.8   1.8   1.8   1.8   1.8   1.8   1.8   1.8  \n",
       "2  0.37  0.37  0.47  0.69  0.56  0.45  0.38  0.35  0.36  0.32  \n",
       "3   0.1  0.13  0.14  0.23  0.18  0.12   0.1  0.09   0.1  0.08  \n",
       "4   2.5   2.2   2.5   2.3   2.1   1.9   1.5   1.6   1.8   1.5  \n",
       "5    11    11    22    28    19    12   8.1     7   6.9     6  \n",
       "6    14    13    25    30    21    13   9.7   8.6   8.7   7.5  \n",
       "7    65    64    51    34    33    34    37    38    38    36  \n",
       "8    52    51    66    85    85    63    46    36    42    42  \n",
       "9    36    45    42    49    45    44    41    30    24    13  \n",
       "\n",
       "[10 rows x 27 columns]"
      ]
     },
     "execution_count": 1,
     "metadata": {},
     "output_type": "execute_result"
    }
   ],
   "source": [
    "import pandas as pd\n",
    "import numpy as np\n",
    "\n",
    "data = pd.read_csv('data/train.csv', encoding = 'big5')\n",
    "data.head(10)"
   ]
  },
  {
   "cell_type": "code",
   "execution_count": 2,
   "id": "searching-mambo",
   "metadata": {},
   "outputs": [
    {
     "name": "stderr",
     "output_type": "stream",
     "text": [
      "/opt/anaconda3/lib/python3.7/site-packages/ipykernel_launcher.py:3: SettingWithCopyWarning: \n",
      "A value is trying to be set on a copy of a slice from a DataFrame.\n",
      "Try using .loc[row_indexer,col_indexer] = value instead\n",
      "\n",
      "See the caveats in the documentation: http://pandas.pydata.org/pandas-docs/stable/indexing.html#indexing-view-versus-copy\n",
      "  This is separate from the ipykernel package so we can avoid doing imports until\n",
      "/opt/anaconda3/lib/python3.7/site-packages/pandas/core/frame.py:3163: SettingWithCopyWarning: \n",
      "A value is trying to be set on a copy of a slice from a DataFrame\n",
      "\n",
      "See the caveats in the documentation: http://pandas.pydata.org/pandas-docs/stable/indexing.html#indexing-view-versus-copy\n",
      "  self._where(-key, value, inplace=True)\n"
     ]
    }
   ],
   "source": [
    "def to_rawdata(data, n = 3):\n",
    "    raw_data = data.iloc[:,n:]\n",
    "    raw_data[raw_data == 'NR'] = 0\n",
    "    raw_data = raw_data.astype(float)\n",
    "    return raw_data\n",
    "\n",
    "raw_data = to_rawdata(data)"
   ]
  },
  {
   "cell_type": "code",
   "execution_count": 3,
   "id": "partial-meeting",
   "metadata": {},
   "outputs": [],
   "source": [
    "raw_data = raw_data.values\n",
    "\n",
    "def classfi(raw_data):\n",
    "    X = []\n",
    "    y = []\n",
    "    for i in range(0, 4320, 18):\n",
    "        for j in range(0, 15):\n",
    "            X.append(raw_data[i:i+18,j:j+9])\n",
    "            y.append(raw_data[i+9,j+9])\n",
    "    return X, y\n",
    "\n",
    "X, y = classfi(raw_data)"
   ]
  },
  {
   "cell_type": "code",
   "execution_count": 4,
   "id": "single-genius",
   "metadata": {},
   "outputs": [],
   "source": [
    "X = np.array(X)"
   ]
  },
  {
   "cell_type": "markdown",
   "id": "starting-brunswick",
   "metadata": {},
   "source": [
    "## 用前九天的PM2.5来预测第十天的PM2.5\n",
    "### SGDM"
   ]
  },
  {
   "cell_type": "code",
   "execution_count": 5,
   "id": "lightweight-generic",
   "metadata": {},
   "outputs": [],
   "source": [
    "X_pm25 = []\n",
    "for i in range(X.shape[0]):\n",
    "    X_pm25.append(X[i][9])\n",
    "    \n",
    "X_pm25 = np.array(X_pm25)"
   ]
  },
  {
   "cell_type": "code",
   "execution_count": 6,
   "id": "bulgarian-hacker",
   "metadata": {},
   "outputs": [],
   "source": [
    "def x_pre(x):\n",
    "    b0 = np.ones(x.shape[0]).reshape(-1, 1)\n",
    "    return np.hstack([b0,x])\n",
    "\n",
    "def gradient_descent_sgdm(X, y, n_iters = 10e6, p = 0.9, batch_size = 50, eta = 0.1):  \n",
    "\n",
    "    def dJ(beta, X_b, y):\n",
    "        return X_b.T.dot(X_b.dot(beta) - y) * 2 / len(X_b)\n",
    "    \n",
    "    X = x_pre(X)\n",
    "    y = np.array(y)\n",
    "    initial_beta = np.random.rand(X.shape[1])\n",
    "     \n",
    "    i_iter = 0\n",
    "    movement = 0\n",
    "    beta = initial_beta\n",
    "    m = X.shape[0]\n",
    "    \n",
    "    \n",
    "    while i_iter < n_iters:\n",
    "        rand_i = np.random.permutation(m)\n",
    "        for i in range(m//batch_size):\n",
    "            gradient = dJ(beta, X[rand_i][i*batch_size:(i+1)*batch_size], y[rand_i][i*batch_size:(i+1)*batch_size])\n",
    "            movement = p*movement + (1-p)*gradient\n",
    "            beta = beta - eta * movement\n",
    "            i_iter += 1\n",
    "    \n",
    "    \n",
    "    return beta[0], beta[1:]"
   ]
  },
  {
   "cell_type": "code",
   "execution_count": 7,
   "id": "prepared-bankruptcy",
   "metadata": {},
   "outputs": [],
   "source": [
    "from sklearn.model_selection import train_test_split\n",
    "from sklearn.preprocessing import StandardScaler\n",
    "\n",
    "normal = StandardScaler()\n",
    "normal.fit(X_pm25)\n",
    "X_pm25 = normal.transform(X_pm25)\n",
    "\n",
    "X_train, X_test, y_train, y_test = train_test_split(X_pm25, y, test_size = 0.8)"
   ]
  },
  {
   "cell_type": "code",
   "execution_count": 8,
   "id": "thorough-despite",
   "metadata": {},
   "outputs": [
    {
     "name": "stdout",
     "output_type": "stream",
     "text": [
      "CPU times: user 2.86 s, sys: 54.7 ms, total: 2.91 s\n",
      "Wall time: 2.93 s\n"
     ]
    },
    {
     "data": {
      "text/plain": [
       "24.11430357720519"
      ]
     },
     "execution_count": 8,
     "metadata": {},
     "output_type": "execute_result"
    }
   ],
   "source": [
    "%%time\n",
    "intercept_, coef_ = gradient_descent_sgdm(X_train, y_train, n_iters = 100000, \n",
    "                             batch_size = 100, p = 0.999)\n",
    "intercept_"
   ]
  },
  {
   "cell_type": "code",
   "execution_count": 9,
   "id": "alert-tunnel",
   "metadata": {},
   "outputs": [
    {
     "data": {
      "text/plain": [
       "array([  0.03474067,  -1.26759358,   4.56770387,  -5.07726794,\n",
       "         0.33512582,   8.72740603, -11.25090417,   2.07081411,\n",
       "        17.45832668])"
      ]
     },
     "execution_count": 9,
     "metadata": {},
     "output_type": "execute_result"
    }
   ],
   "source": [
    "coef_"
   ]
  },
  {
   "cell_type": "code",
   "execution_count": 10,
   "id": "fewer-thanksgiving",
   "metadata": {},
   "outputs": [
    {
     "data": {
      "text/plain": [
       "44.11043389057022"
      ]
     },
     "execution_count": 10,
     "metadata": {},
     "output_type": "execute_result"
    }
   ],
   "source": [
    "from sklearn.metrics import mean_squared_error\n",
    "\n",
    "y_predict = X_test.dot(coef_) + intercept_\n",
    "mean_squared_error(y_test, y_predict)"
   ]
  },
  {
   "cell_type": "markdown",
   "id": "acting-colorado",
   "metadata": {},
   "source": [
    "##### Predict"
   ]
  },
  {
   "cell_type": "code",
   "execution_count": 11,
   "id": "unsigned-suite",
   "metadata": {},
   "outputs": [
    {
     "name": "stderr",
     "output_type": "stream",
     "text": [
      "/opt/anaconda3/lib/python3.7/site-packages/ipykernel_launcher.py:3: SettingWithCopyWarning: \n",
      "A value is trying to be set on a copy of a slice from a DataFrame.\n",
      "Try using .loc[row_indexer,col_indexer] = value instead\n",
      "\n",
      "See the caveats in the documentation: http://pandas.pydata.org/pandas-docs/stable/indexing.html#indexing-view-versus-copy\n",
      "  This is separate from the ipykernel package so we can avoid doing imports until\n",
      "/opt/anaconda3/lib/python3.7/site-packages/pandas/core/frame.py:3163: SettingWithCopyWarning: \n",
      "A value is trying to be set on a copy of a slice from a DataFrame\n",
      "\n",
      "See the caveats in the documentation: http://pandas.pydata.org/pandas-docs/stable/indexing.html#indexing-view-versus-copy\n",
      "  self._where(-key, value, inplace=True)\n"
     ]
    }
   ],
   "source": [
    "test_data = pd.read_csv('data/test.csv', encoding = 'big5', header = None )\n",
    "test_data.head(10)\n",
    "\n",
    "raw_test = to_rawdata(test_data, n = 2)\n",
    "raw_test = raw_test.values"
   ]
  },
  {
   "cell_type": "code",
   "execution_count": 12,
   "id": "skilled-container",
   "metadata": {},
   "outputs": [],
   "source": [
    "X_predict = []\n",
    "for i in range(0, raw_test.shape[0], 18):\n",
    "    X_predict.append(raw_test[i+9,:])\n",
    "        \n",
    "X_predict = np.array(X_test)\n",
    "X_predict_normal = normal.transform(X_predict)"
   ]
  },
  {
   "cell_type": "code",
   "execution_count": 13,
   "id": "blessed-finding",
   "metadata": {},
   "outputs": [],
   "source": [
    "y_predict_sgdm = intercept_ + X_predict_normal.dot(coef_)\n",
    "\n",
    "predict_answer = []\n",
    "\n",
    "for i in range(y_predict_sgdm.shape[0]):\n",
    "    predict_answer.append([f'id_{i}', y_predict_sgdm[i]])  "
   ]
  },
  {
   "cell_type": "code",
   "execution_count": 14,
   "id": "guided-pottery",
   "metadata": {},
   "outputs": [
    {
     "data": {
      "text/html": [
       "<div>\n",
       "<style scoped>\n",
       "    .dataframe tbody tr th:only-of-type {\n",
       "        vertical-align: middle;\n",
       "    }\n",
       "\n",
       "    .dataframe tbody tr th {\n",
       "        vertical-align: top;\n",
       "    }\n",
       "\n",
       "    .dataframe thead th {\n",
       "        text-align: right;\n",
       "    }\n",
       "</style>\n",
       "<table border=\"1\" class=\"dataframe\">\n",
       "  <thead>\n",
       "    <tr style=\"text-align: right;\">\n",
       "      <th></th>\n",
       "      <th>id</th>\n",
       "      <th>PM2.5</th>\n",
       "    </tr>\n",
       "  </thead>\n",
       "  <tbody>\n",
       "    <tr>\n",
       "      <th>0</th>\n",
       "      <td>id_0</td>\n",
       "      <td>2.428522</td>\n",
       "    </tr>\n",
       "    <tr>\n",
       "      <th>1</th>\n",
       "      <td>id_1</td>\n",
       "      <td>2.076697</td>\n",
       "    </tr>\n",
       "    <tr>\n",
       "      <th>2</th>\n",
       "      <td>id_2</td>\n",
       "      <td>2.283388</td>\n",
       "    </tr>\n",
       "    <tr>\n",
       "      <th>3</th>\n",
       "      <td>id_3</td>\n",
       "      <td>2.154352</td>\n",
       "    </tr>\n",
       "    <tr>\n",
       "      <th>4</th>\n",
       "      <td>id_4</td>\n",
       "      <td>2.779459</td>\n",
       "    </tr>\n",
       "  </tbody>\n",
       "</table>\n",
       "</div>"
      ],
      "text/plain": [
       "     id     PM2.5\n",
       "0  id_0  2.428522\n",
       "1  id_1  2.076697\n",
       "2  id_2  2.283388\n",
       "3  id_3  2.154352\n",
       "4  id_4  2.779459"
      ]
     },
     "execution_count": 14,
     "metadata": {},
     "output_type": "execute_result"
    }
   ],
   "source": [
    "pd_predict_answer = pd.DataFrame(predict_answer, columns = ['id', 'PM2.5'] )\n",
    "pd_predict_answer.head()"
   ]
  },
  {
   "cell_type": "code",
   "execution_count": 15,
   "id": "judicial-tribute",
   "metadata": {},
   "outputs": [],
   "source": [
    "pd_predict_answer.to_csv('predict_answer/sgdm.csv', index = False)"
   ]
  },
  {
   "cell_type": "markdown",
   "id": "sacred-dealer",
   "metadata": {},
   "source": [
    "## RMSProp\n",
    "\n",
    "![title](attachment/1-6.png)\n",
    "\n",
    "降低学习率，类比Adagrad\n",
    "\n",
    "\n"
   ]
  },
  {
   "cell_type": "code",
   "execution_count": 16,
   "id": "collective-incentive",
   "metadata": {},
   "outputs": [],
   "source": [
    "def gradient_descent_RMSProp(X, y, n_iters = 10e6, alpha = 0.999, eta = 0.1):  \n",
    "\n",
    "    def dJ(beta, X_b, y):\n",
    "        return X_b.T.dot(X_b.dot(beta) - y) * 2 / len(X_b)\n",
    "    \n",
    "    X = x_pre(X)\n",
    "    y = np.array(y)\n",
    "    initial_beta = np.random.rand(X.shape[1])\n",
    "     \n",
    "    beta = initial_beta\n",
    "    i_iter = 0    \n",
    "    v = dJ(beta, X, y) ** 2   \n",
    "    \n",
    "    while i_iter < n_iters:\n",
    "        gradient = dJ(beta, X, y)\n",
    "        beta = beta - (eta/np.sqrt(v))*gradient\n",
    "        v = alpha*v + (1-alpha)*(gradient ** 2)\n",
    "        i_iter += 1\n",
    "    \n",
    "    return beta[0], beta[1:]"
   ]
  },
  {
   "cell_type": "code",
   "execution_count": 17,
   "id": "wireless-healthcare",
   "metadata": {},
   "outputs": [
    {
     "name": "stdout",
     "output_type": "stream",
     "text": [
      "CPU times: user 9.31 s, sys: 75.2 ms, total: 9.39 s\n",
      "Wall time: 2.39 s\n"
     ]
    },
    {
     "data": {
      "text/plain": [
       "24.105503003403104"
      ]
     },
     "execution_count": 17,
     "metadata": {},
     "output_type": "execute_result"
    }
   ],
   "source": [
    "%%time\n",
    "intercept_, coef_ = gradient_descent_RMSProp(X_train, y_train, n_iters = 100000)\n",
    "intercept_"
   ]
  },
  {
   "cell_type": "code",
   "execution_count": 18,
   "id": "brilliant-notice",
   "metadata": {},
   "outputs": [
    {
     "data": {
      "text/plain": [
       "array([  0.05616961,  -1.22557633,   4.63039035,  -5.06787942,\n",
       "         0.35761251,   8.79519351, -11.20820286,   2.0679212 ,\n",
       "        17.49149943])"
      ]
     },
     "execution_count": 18,
     "metadata": {},
     "output_type": "execute_result"
    }
   ],
   "source": [
    "coef_"
   ]
  },
  {
   "cell_type": "code",
   "execution_count": 19,
   "id": "august-tampa",
   "metadata": {},
   "outputs": [
    {
     "data": {
      "text/plain": [
       "44.123733213307816"
      ]
     },
     "execution_count": 19,
     "metadata": {},
     "output_type": "execute_result"
    }
   ],
   "source": [
    "y_predict = X_test.dot(coef_) + intercept_\n",
    "mean_squared_error(y_test, y_predict)"
   ]
  },
  {
   "cell_type": "code",
   "execution_count": 20,
   "id": "downtown-sapphire",
   "metadata": {},
   "outputs": [
    {
     "data": {
      "text/html": [
       "<div>\n",
       "<style scoped>\n",
       "    .dataframe tbody tr th:only-of-type {\n",
       "        vertical-align: middle;\n",
       "    }\n",
       "\n",
       "    .dataframe tbody tr th {\n",
       "        vertical-align: top;\n",
       "    }\n",
       "\n",
       "    .dataframe thead th {\n",
       "        text-align: right;\n",
       "    }\n",
       "</style>\n",
       "<table border=\"1\" class=\"dataframe\">\n",
       "  <thead>\n",
       "    <tr style=\"text-align: right;\">\n",
       "      <th></th>\n",
       "      <th>id</th>\n",
       "      <th>PM2.5</th>\n",
       "    </tr>\n",
       "  </thead>\n",
       "  <tbody>\n",
       "    <tr>\n",
       "      <th>0</th>\n",
       "      <td>id_0</td>\n",
       "      <td>2.043674</td>\n",
       "    </tr>\n",
       "    <tr>\n",
       "      <th>1</th>\n",
       "      <td>id_1</td>\n",
       "      <td>1.668277</td>\n",
       "    </tr>\n",
       "    <tr>\n",
       "      <th>2</th>\n",
       "      <td>id_2</td>\n",
       "      <td>1.916104</td>\n",
       "    </tr>\n",
       "    <tr>\n",
       "      <th>3</th>\n",
       "      <td>id_3</td>\n",
       "      <td>1.750837</td>\n",
       "    </tr>\n",
       "    <tr>\n",
       "      <th>4</th>\n",
       "      <td>id_4</td>\n",
       "      <td>2.390916</td>\n",
       "    </tr>\n",
       "  </tbody>\n",
       "</table>\n",
       "</div>"
      ],
      "text/plain": [
       "     id     PM2.5\n",
       "0  id_0  2.043674\n",
       "1  id_1  1.668277\n",
       "2  id_2  1.916104\n",
       "3  id_3  1.750837\n",
       "4  id_4  2.390916"
      ]
     },
     "execution_count": 20,
     "metadata": {},
     "output_type": "execute_result"
    }
   ],
   "source": [
    "y_predict_RMSProp = intercept_ + X_predict_normal.dot(coef_)\n",
    "\n",
    "predict_answer = []\n",
    "\n",
    "for i in range(y_predict_RMSProp.shape[0]):\n",
    "    predict_answer.append([f'id_{i}', y_predict_RMSProp[i]]) \n",
    "\n",
    "pd_predict_answer = pd.DataFrame(predict_answer, columns = ['id', 'PM2.5'] )\n",
    "pd_predict_answer.head()"
   ]
  },
  {
   "cell_type": "code",
   "execution_count": 21,
   "id": "suffering-phrase",
   "metadata": {},
   "outputs": [],
   "source": [
    "pd_predict_answer.to_csv('predict_answer/RMSProp.csv', index = False)"
   ]
  },
  {
   "cell_type": "markdown",
   "id": "heavy-quantum",
   "metadata": {},
   "source": [
    "## Adam\n",
    "![title](attachment/1-7.png)\n",
    "\n",
    "\n"
   ]
  },
  {
   "cell_type": "code",
   "execution_count": 22,
   "id": "egyptian-explanation",
   "metadata": {},
   "outputs": [],
   "source": [
    "def gradient_descent_adam(X, y, n_iters = 10e6, beta_1 = 0.9, \n",
    "                          beta_2 = 0.999, eta = 0.1, epsilon = 10e-8,  \n",
    "                          batch_size = 50, t = 2):  \n",
    "\n",
    "    def dJ(beta, X_b, y):\n",
    "        return X_b.T.dot(X_b.dot(beta) - y) * 2 / len(X_b)\n",
    "    \n",
    "    X = x_pre(X)\n",
    "    y = np.array(y)\n",
    "    initial_beta = np.random.rand(X.shape[1])\n",
    "     \n",
    "    beta = initial_beta\n",
    "    i_iter = 0    \n",
    "    v = dJ(beta, X, y) ** 2      \n",
    "    movement = 0\n",
    "    m = X.shape[0]\n",
    "    \n",
    "    while i_iter < n_iters:\n",
    "        rand_i = np.random.permutation(m)\n",
    "        for i in range(m//batch_size):\n",
    "            gradient = dJ(beta, X[rand_i][i*batch_size:(i+1)*batch_size], y[rand_i][i*batch_size:(i+1)*batch_size])\n",
    "            movement = beta_1*movement + (1-beta_1)*gradient\n",
    "            movement_hat = movement/(1-(beta_1 ** t))\n",
    "            v_hat = v/(1-(beta_2)**t)\n",
    "            beta = beta - eta/(np.sqrt(v_hat)+epsilon)*movement_hat\n",
    "            v = beta_2*v + (1-beta_2)*(gradient**2)\n",
    "            i_iter += 1      \n",
    "            \n",
    "    return beta[0], beta[1:]"
   ]
  },
  {
   "cell_type": "code",
   "execution_count": 23,
   "id": "failing-custom",
   "metadata": {},
   "outputs": [
    {
     "name": "stdout",
     "output_type": "stream",
     "text": [
      "CPU times: user 4.24 s, sys: 96.9 ms, total: 4.34 s\n",
      "Wall time: 3.84 s\n"
     ]
    },
    {
     "data": {
      "text/plain": [
       "24.061183249707295"
      ]
     },
     "execution_count": 23,
     "metadata": {},
     "output_type": "execute_result"
    }
   ],
   "source": [
    "%%time\n",
    "intercept_, coef_ = gradient_descent_adam(X_train, y_train, n_iters = 100000)\n",
    "intercept_"
   ]
  },
  {
   "cell_type": "code",
   "execution_count": 24,
   "id": "charged-integral",
   "metadata": {},
   "outputs": [
    {
     "data": {
      "text/plain": [
       "array([  0.04170037,  -1.18900037,   4.64822607,  -5.06902603,\n",
       "         0.36212723,   8.78854534, -11.22594322,   2.01267081,\n",
       "        17.59143014])"
      ]
     },
     "execution_count": 24,
     "metadata": {},
     "output_type": "execute_result"
    }
   ],
   "source": [
    "coef_"
   ]
  },
  {
   "cell_type": "code",
   "execution_count": 25,
   "id": "acceptable-groove",
   "metadata": {},
   "outputs": [
    {
     "data": {
      "text/plain": [
       "44.09283352710668"
      ]
     },
     "execution_count": 25,
     "metadata": {},
     "output_type": "execute_result"
    }
   ],
   "source": [
    "y_predict = X_test.dot(coef_) + intercept_\n",
    "mean_squared_error(y_test, y_predict)"
   ]
  },
  {
   "cell_type": "code",
   "execution_count": 26,
   "id": "acknowledged-crest",
   "metadata": {},
   "outputs": [
    {
     "data": {
      "text/html": [
       "<div>\n",
       "<style scoped>\n",
       "    .dataframe tbody tr th:only-of-type {\n",
       "        vertical-align: middle;\n",
       "    }\n",
       "\n",
       "    .dataframe tbody tr th {\n",
       "        vertical-align: top;\n",
       "    }\n",
       "\n",
       "    .dataframe thead th {\n",
       "        text-align: right;\n",
       "    }\n",
       "</style>\n",
       "<table border=\"1\" class=\"dataframe\">\n",
       "  <thead>\n",
       "    <tr style=\"text-align: right;\">\n",
       "      <th></th>\n",
       "      <th>id</th>\n",
       "      <th>PM2.5</th>\n",
       "    </tr>\n",
       "  </thead>\n",
       "  <tbody>\n",
       "    <tr>\n",
       "      <th>0</th>\n",
       "      <td>id_0</td>\n",
       "      <td>1.913248</td>\n",
       "    </tr>\n",
       "    <tr>\n",
       "      <th>1</th>\n",
       "      <td>id_1</td>\n",
       "      <td>1.537567</td>\n",
       "    </tr>\n",
       "    <tr>\n",
       "      <th>2</th>\n",
       "      <td>id_2</td>\n",
       "      <td>1.787429</td>\n",
       "    </tr>\n",
       "    <tr>\n",
       "      <th>3</th>\n",
       "      <td>id_3</td>\n",
       "      <td>1.618432</td>\n",
       "    </tr>\n",
       "    <tr>\n",
       "      <th>4</th>\n",
       "      <td>id_4</td>\n",
       "      <td>2.261727</td>\n",
       "    </tr>\n",
       "  </tbody>\n",
       "</table>\n",
       "</div>"
      ],
      "text/plain": [
       "     id     PM2.5\n",
       "0  id_0  1.913248\n",
       "1  id_1  1.537567\n",
       "2  id_2  1.787429\n",
       "3  id_3  1.618432\n",
       "4  id_4  2.261727"
      ]
     },
     "execution_count": 26,
     "metadata": {},
     "output_type": "execute_result"
    }
   ],
   "source": [
    "y_predict_adam = intercept_ + X_predict_normal.dot(coef_)\n",
    "\n",
    "predict_answer = []\n",
    "\n",
    "for i in range(y_predict_adam.shape[0]):\n",
    "    predict_answer.append([f'id_{i}', y_predict_adam[i]]) \n",
    "\n",
    "pd_predict_answer = pd.DataFrame(predict_answer, columns = ['id', 'PM2.5'] )\n",
    "pd_predict_answer.head()"
   ]
  },
  {
   "cell_type": "code",
   "execution_count": 27,
   "id": "circular-roots",
   "metadata": {},
   "outputs": [],
   "source": [
    "pd_predict_answer.to_csv('predict_answer/adam.csv', index = False)"
   ]
  },
  {
   "cell_type": "markdown",
   "id": "false-makeup",
   "metadata": {},
   "source": [
    "## Application"
   ]
  },
  {
   "cell_type": "markdown",
   "id": "floating-horse",
   "metadata": {},
   "source": [
    "![title](attachment/1-9.png)"
   ]
  }
 ],
 "metadata": {
  "kernelspec": {
   "display_name": "Python 3",
   "language": "python",
   "name": "python3"
  },
  "language_info": {
   "codemirror_mode": {
    "name": "ipython",
    "version": 3
   },
   "file_extension": ".py",
   "mimetype": "text/x-python",
   "name": "python",
   "nbconvert_exporter": "python",
   "pygments_lexer": "ipython3",
   "version": "3.7.2"
  }
 },
 "nbformat": 4,
 "nbformat_minor": 5
}
